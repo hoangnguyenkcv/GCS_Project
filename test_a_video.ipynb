{
 "cells": [
  {
   "cell_type": "code",
   "execution_count": 1,
   "metadata": {
    "collapsed": true
   },
   "outputs": [],
   "source": [
    "import os\n",
    "import glob\n",
    "import numpy as np\n",
    "import torch\n",
    "import time\n",
    "import cv2\n",
    "#import json\n",
    "import numpy as np\n",
    "from PIL import Image\n",
    "from torchvision.transforms import *\n",
    "import torch.utils.data\n",
    "import torch\n",
    "import torch.nn as nn\n",
    "from torch.autograd import Variable\n",
    "from model import ConvColumn\n",
    "import torch.nn as nn\n",
    "import torch.nn.parallel\n",
    "import torch.backends.cudnn as cudnn\n"
   ]
  },
  {
   "cell_type": "code",
   "execution_count": 2,
   "metadata": {
    "collapsed": false
   },
   "outputs": [
    {
     "name": "stdout",
     "output_type": "stream",
     "text": [
      "=> active GPUs: [0, 0]\n",
      "=> loading checkpoint\n",
      "=> loaded checkpoint (epoch 51)\n",
      "2.5911359786987305\n"
     ]
    }
   ],
   "source": [
    "### Loading model\n",
    "# set run output folder\n",
    "gpus = [0,0]\n",
    "print(\"=> active GPUs: {}\".format(gpus))\n",
    "\n",
    "model_name = \"jester_conv_example\"\n",
    "\n",
    "start = time.time()\n",
    "# create model\n",
    "model = ConvColumn(7)\n",
    "\n",
    "# multi GPU setting\n",
    "model = torch.nn.DataParallel(model, device_ids= gpus).cuda()\n",
    "\n",
    "if os.path.isfile(\"checkpoint.pth.tar\"):\n",
    "    print(\"=> loading checkpoint\")\n",
    "    checkpoint = torch.load(\"checkpoint.pth.tar\")\n",
    "    start_epoch = checkpoint['epoch']\n",
    "    best_prec1 = checkpoint['best_prec1']\n",
    "    model.load_state_dict(checkpoint['state_dict'])\n",
    "    print(\"=> loaded checkpoint (epoch {})\"\n",
    "          .format(checkpoint['epoch']))\n",
    "else:\n",
    "    print(\"=> no checkpoint found \")\n",
    "\n",
    "cudnn.benchmark = False\n",
    "print(time.time() - start)\n",
    "    "
   ]
  },
  {
   "cell_type": "code",
   "execution_count": 3,
   "metadata": {
    "collapsed": true
   },
   "outputs": [],
   "source": [
    "# declare initial parameters \n",
    "\n",
    "IMG_EXTENSIONS = ['.jpg', '.JPG', '.jpeg', '.JPEG']\n",
    "\n",
    "clip_size = 18\n",
    "nclips = 1\n",
    "step_size = 2\n",
    "is_val=True\n",
    "\n",
    "# declare transform (crop, mean, std) #\n",
    "\n",
    "transform = Compose([\n",
    "    CenterCrop(84),\n",
    "    ToTensor(),\n",
    "    Normalize(mean=[0.485, 0.456, 0.406],\n",
    "              std=[0.229, 0.224, 0.225])\n",
    "])\n",
    "\n",
    "\n",
    "###################################################\n",
    "\n",
    "# root = './test_video/9223/%05d.jpg'%i     % path of frames\n",
    "\n",
    "# define function to load image from a path of image file \n",
    "def image_loader(image_path):\n",
    "    \"\"\"load image, returns cuda tensor\"\"\"\n",
    "    image = Image.open(image_path).convert('RGB')\n",
    "    return image\n",
    "\n",
    "# define function to take file name of frame in a forder\n",
    "\n",
    "def get_frame_names(path):\n",
    "    frame_names = []\n",
    "    for ext in IMG_EXTENSIONS:\n",
    "        frame_names.extend(glob.glob(os.path.join(path, \"*\" + ext)))\n",
    "    frame_names = list(sorted(frame_names))\n",
    "    num_frames = len(frame_names)\n",
    "    # set number of necessary frames\n",
    "    if nclips > -1:\n",
    "        num_frames_necessary = clip_size * nclips * step_size\n",
    "    else:\n",
    "        num_frames_necessary = num_frames\n",
    "\n",
    "    # pick frames\n",
    "    offset = 0\n",
    "    if num_frames_necessary > num_frames:\n",
    "        # Pad last frame if video is shorter than necessary\n",
    "        frame_names += [frame_names[-1]] * \\\n",
    "            (num_frames_necessary - num_frames)\n",
    "    elif num_frames_necessary < num_frames:\n",
    "        # If there are more frames, then sample starting offset.\n",
    "        diff = (num_frames - num_frames_necessary)\n",
    "        # temporal augmentation\n",
    "        if not is_val:\n",
    "            offset = np.random.randint(0, diff)\n",
    "    frame_names = frame_names[offset:num_frames_necessary +\n",
    "                              offset:step_size]\n",
    "    return frame_names"
   ]
  },
  {
   "cell_type": "code",
   "execution_count": 4,
   "metadata": {
    "collapsed": false
   },
   "outputs": [],
   "source": [
    "### get image paths from an input forder\n",
    "img_paths = get_frame_names('./testset/145149/')\n",
    "### get frames form img_paths \n",
    "imgs = []\n",
    "for img_path in img_paths:\n",
    "    img = image_loader(img_path)\n",
    "    img = transform(img)\n",
    "    imgs.append(torch.unsqueeze(img, 0))\n",
    "\n",
    "# print(imgs.shape)    \n",
    "## format data to torch\n",
    "    \n",
    "data = torch.cat(imgs)\n",
    "data = data.permute(1, 0, 2, 3)\n",
    "data = data.unsqueeze(0)\n",
    "#print(data.shape)\n",
    "gestures = ['Swiping_Left', 'Swiping_Right', 'Swiping_Down', 'Swiping_Up', 'Zooming_In', 'Zooming_Out', 'Doing_other_things']\n"
   ]
  },
  {
   "cell_type": "code",
   "execution_count": 5,
   "metadata": {
    "collapsed": false
   },
   "outputs": [
    {
     "name": "stdout",
     "output_type": "stream",
     "text": [
      "predict_gesture: Doing_other_things\n"
     ]
    }
   ],
   "source": [
    "input = data\n",
    "# input_vars = torch.autograd.Variable(input.cuda(), volatile#=True)\n",
    "input_vars = Variable(input)\n",
    "\n",
    "output = model(input_vars)\n",
    "_, predicted = torch.max(output.data, 1)\n",
    "\n",
    "predicted = predicted.cpu().numpy()\n",
    "predicted = predicted[0]\n",
    "m1 = np.array([0.485, 0.456, 0.406])\n",
    "s1 = np.array([0.229, 0.224, 0.225])\n",
    "\n",
    "input = input.cpu().numpy()\n",
    "for t in range(18):\n",
    "    cv2.imshow('input',np.array(255*(s1*np.transpose(np.array(input[0,:,t,:,:]),(1,2,0))+m1),dtype=np.uint8))\n",
    "    cv2.waitKey(500)\n",
    "cv2.destroyAllWindows()\n",
    "print('predict_gesture: {}'.format(gestures[predicted]))\n",
    "\n"
   ]
  }
 ],
 "metadata": {
  "anaconda-cloud": {},
  "kernelspec": {
   "display_name": "Python [default]",
   "language": "python",
   "name": "python3"
  },
  "language_info": {
   "codemirror_mode": {
    "name": "ipython",
    "version": 3
   },
   "file_extension": ".py",
   "mimetype": "text/x-python",
   "name": "python",
   "nbconvert_exporter": "python",
   "pygments_lexer": "ipython3",
   "version": "3.5.2"
  }
 },
 "nbformat": 4,
 "nbformat_minor": 2
}
